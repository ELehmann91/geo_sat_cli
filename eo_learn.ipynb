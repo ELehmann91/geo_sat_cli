{
  "nbformat": 4,
  "nbformat_minor": 0,
  "metadata": {
    "colab": {
      "name": "Untitled4.ipynb",
      "provenance": [],
      "include_colab_link": true
    },
    "kernelspec": {
      "name": "python3",
      "display_name": "Python 3"
    }
  },
  "cells": [
    {
      "cell_type": "markdown",
      "metadata": {
        "id": "view-in-github",
        "colab_type": "text"
      },
      "source": [
        "<a href=\"https://colab.research.google.com/github/ELehmann91/geo_sat_cli/blob/master/eo_learn.ipynb\" target=\"_parent\"><img src=\"https://colab.research.google.com/assets/colab-badge.svg\" alt=\"Open In Colab\"/></a>"
      ]
    },
    {
      "cell_type": "code",
      "metadata": {
        "id": "zmrTfXO4aPrq",
        "colab_type": "code",
        "colab": {
          "base_uri": "https://localhost:8080/",
          "height": 1000
        },
        "outputId": "f8c2652f-8268-4641-f9d1-10fe3797e366"
      },
      "source": [
        "! pip install enum\n",
        "! pip install geopandas\n",
        "! pip install shapely\n",
        "! pip install lightgbm\n",
        "! pip install eo-learn\n",
        "! pip install sentinelhub"
      ],
      "execution_count": 1,
      "outputs": [
        {
          "output_type": "stream",
          "text": [
            "Collecting enum\n",
            "  Downloading https://files.pythonhosted.org/packages/02/a0/32e1d5a21b703f600183e205aafc6773577e16429af5ad3c3f9b956b07ca/enum-0.4.7.tar.gz\n",
            "\u001b[31mERROR: Command errored out with exit status 1: python setup.py egg_info Check the logs for full command output.\u001b[0m\n",
            "Collecting geopandas\n",
            "\u001b[?25l  Downloading https://files.pythonhosted.org/packages/59/39/de0263d511d4fc35a640cf00d02e497eb60698315a22936bedbdd904d7f7/geopandas-0.6.1-py2.py3-none-any.whl (918kB)\n",
            "\u001b[K     |████████████████████████████████| 921kB 2.7MB/s \n",
            "\u001b[?25hRequirement already satisfied: shapely in /usr/local/lib/python3.6/dist-packages (from geopandas) (1.6.4.post2)\n",
            "Requirement already satisfied: pandas>=0.23.0 in /usr/local/lib/python3.6/dist-packages (from geopandas) (0.24.2)\n",
            "Collecting fiona (from geopandas)\n",
            "\u001b[?25l  Downloading https://files.pythonhosted.org/packages/1e/cf/a1f22d87223cb4f48beecf4de6eb59e5261a7d0d073489bbe7cfe6514ae3/Fiona-1.8.8-1-cp36-cp36m-manylinux1_x86_64.whl (11.9MB)\n",
            "\u001b[K     |████████████████████████████████| 11.9MB 40.2MB/s \n",
            "\u001b[?25hCollecting pyproj (from geopandas)\n",
            "\u001b[?25l  Downloading https://files.pythonhosted.org/packages/7a/b1/ab67ad924770e1c1432fa0953a665b8ea193b60c7494457b69da052d6e83/pyproj-2.4.0-cp36-cp36m-manylinux1_x86_64.whl (10.1MB)\n",
            "\u001b[K     |████████████████████████████████| 10.1MB 23.9MB/s \n",
            "\u001b[?25hRequirement already satisfied: python-dateutil>=2.5.0 in /usr/local/lib/python3.6/dist-packages (from pandas>=0.23.0->geopandas) (2.5.3)\n",
            "Requirement already satisfied: numpy>=1.12.0 in /usr/local/lib/python3.6/dist-packages (from pandas>=0.23.0->geopandas) (1.16.5)\n",
            "Requirement already satisfied: pytz>=2011k in /usr/local/lib/python3.6/dist-packages (from pandas>=0.23.0->geopandas) (2018.9)\n",
            "Collecting cligj>=0.5 (from fiona->geopandas)\n",
            "  Downloading https://files.pythonhosted.org/packages/e4/be/30a58b4b0733850280d01f8bd132591b4668ed5c7046761098d665ac2174/cligj-0.5.0-py3-none-any.whl\n",
            "Requirement already satisfied: six>=1.7 in /usr/local/lib/python3.6/dist-packages (from fiona->geopandas) (1.12.0)\n",
            "Collecting munch (from fiona->geopandas)\n",
            "  Downloading https://files.pythonhosted.org/packages/68/f4/260ec98ea840757a0da09e0ed8135333d59b8dfebe9752a365b04857660a/munch-2.3.2.tar.gz\n",
            "Collecting click-plugins>=1.0 (from fiona->geopandas)\n",
            "  Downloading https://files.pythonhosted.org/packages/e9/da/824b92d9942f4e472702488857914bdd50f73021efea15b4cad9aca8ecef/click_plugins-1.1.1-py2.py3-none-any.whl\n",
            "Requirement already satisfied: click<8,>=4.0 in /usr/local/lib/python3.6/dist-packages (from fiona->geopandas) (7.0)\n",
            "Requirement already satisfied: attrs>=17 in /usr/local/lib/python3.6/dist-packages (from fiona->geopandas) (19.3.0)\n",
            "Building wheels for collected packages: munch\n",
            "  Building wheel for munch (setup.py) ... \u001b[?25l\u001b[?25hdone\n",
            "  Created wheel for munch: filename=munch-2.3.2-py2.py3-none-any.whl size=6614 sha256=2d462f1423bca006767ea08da3b1c506ee964833a62249670ccc198afc659a3d\n",
            "  Stored in directory: /root/.cache/pip/wheels/db/bf/bc/06a3e1bfe0ab27d2e720ceb3cff3159398d92644c0cec2c125\n",
            "Successfully built munch\n",
            "Installing collected packages: cligj, munch, click-plugins, fiona, pyproj, geopandas\n",
            "Successfully installed click-plugins-1.1.1 cligj-0.5.0 fiona-1.8.8 geopandas-0.6.1 munch-2.3.2 pyproj-2.4.0\n",
            "Requirement already satisfied: shapely in /usr/local/lib/python3.6/dist-packages (1.6.4.post2)\n",
            "Requirement already satisfied: lightgbm in /usr/local/lib/python3.6/dist-packages (2.2.3)\n",
            "Requirement already satisfied: scikit-learn in /usr/local/lib/python3.6/dist-packages (from lightgbm) (0.21.3)\n",
            "Requirement already satisfied: numpy in /usr/local/lib/python3.6/dist-packages (from lightgbm) (1.16.5)\n",
            "Requirement already satisfied: scipy in /usr/local/lib/python3.6/dist-packages (from lightgbm) (1.3.1)\n",
            "Requirement already satisfied: joblib>=0.11 in /usr/local/lib/python3.6/dist-packages (from scikit-learn->lightgbm) (0.14.0)\n",
            "Collecting eolearn\n",
            "\u001b[31m  ERROR: Could not find a version that satisfies the requirement eolearn (from versions: none)\u001b[0m\n",
            "\u001b[31mERROR: No matching distribution found for eolearn\u001b[0m\n",
            "Collecting sentinelhub\n",
            "\u001b[?25l  Downloading https://files.pythonhosted.org/packages/42/0b/8eec0d54fb70af429a20b91de3f7e6374cf98d7f387ffde394be3b79104d/sentinelhub-2.6.0.tar.gz (165kB)\n",
            "\u001b[K     |████████████████████████████████| 174kB 2.7MB/s \n",
            "\u001b[?25hRequirement already satisfied: wheel in /usr/local/lib/python3.6/dist-packages (from sentinelhub) (0.33.6)\n",
            "Requirement already satisfied: requests in /usr/local/lib/python3.6/dist-packages (from sentinelhub) (2.21.0)\n",
            "Requirement already satisfied: click in /usr/local/lib/python3.6/dist-packages (from sentinelhub) (7.0)\n",
            "Requirement already satisfied: numpy in /usr/local/lib/python3.6/dist-packages (from sentinelhub) (1.16.5)\n",
            "Collecting tifffile (from sentinelhub)\n",
            "\u001b[?25l  Downloading https://files.pythonhosted.org/packages/ca/96/2fcac22c806145b34e682e03874b490ae09bc3e48013a0c77e590cd6be29/tifffile-2019.7.26-py2.py3-none-any.whl (131kB)\n",
            "\u001b[K     |████████████████████████████████| 133kB 47.8MB/s \n",
            "\u001b[?25hRequirement already satisfied: pillow in /usr/local/lib/python3.6/dist-packages (from sentinelhub) (4.3.0)\n",
            "Requirement already satisfied: python-dateutil in /usr/local/lib/python3.6/dist-packages (from sentinelhub) (2.5.3)\n",
            "Collecting utm (from sentinelhub)\n",
            "  Downloading https://files.pythonhosted.org/packages/b6/77/180f06153f2c1a8caf8409ff6365abc9423ec4ebc3991dfe4a3228bc09d4/utm-0.5.0.tar.gz\n",
            "Requirement already satisfied: shapely in /usr/local/lib/python3.6/dist-packages (from sentinelhub) (1.6.4.post2)\n",
            "Requirement already satisfied: boto3 in /usr/local/lib/python3.6/dist-packages (from sentinelhub) (1.9.250)\n",
            "Requirement already satisfied: botocore in /usr/local/lib/python3.6/dist-packages (from sentinelhub) (1.12.250)\n",
            "Requirement already satisfied: pyproj in /usr/local/lib/python3.6/dist-packages (from sentinelhub) (2.4.0)\n",
            "Requirement already satisfied: urllib3<1.25,>=1.21.1 in /usr/local/lib/python3.6/dist-packages (from requests->sentinelhub) (1.24.3)\n",
            "Requirement already satisfied: certifi>=2017.4.17 in /usr/local/lib/python3.6/dist-packages (from requests->sentinelhub) (2019.9.11)\n",
            "Requirement already satisfied: chardet<3.1.0,>=3.0.2 in /usr/local/lib/python3.6/dist-packages (from requests->sentinelhub) (3.0.4)\n",
            "Requirement already satisfied: idna<2.9,>=2.5 in /usr/local/lib/python3.6/dist-packages (from requests->sentinelhub) (2.8)\n",
            "Requirement already satisfied: olefile in /usr/local/lib/python3.6/dist-packages (from pillow->sentinelhub) (0.46)\n",
            "Requirement already satisfied: six>=1.5 in /usr/local/lib/python3.6/dist-packages (from python-dateutil->sentinelhub) (1.12.0)\n",
            "Requirement already satisfied: s3transfer<0.3.0,>=0.2.0 in /usr/local/lib/python3.6/dist-packages (from boto3->sentinelhub) (0.2.1)\n",
            "Requirement already satisfied: jmespath<1.0.0,>=0.7.1 in /usr/local/lib/python3.6/dist-packages (from boto3->sentinelhub) (0.9.4)\n",
            "Requirement already satisfied: docutils<0.16,>=0.10 in /usr/local/lib/python3.6/dist-packages (from botocore->sentinelhub) (0.15.2)\n",
            "Building wheels for collected packages: sentinelhub, utm\n",
            "  Building wheel for sentinelhub (setup.py) ... \u001b[?25l\u001b[?25hdone\n",
            "  Created wheel for sentinelhub: filename=sentinelhub-2.6.0-cp36-none-any.whl size=174968 sha256=3c42d314d5d70293a6defb4193c4db6478f7f4ab576326a3055d362dc0c85aa0\n",
            "  Stored in directory: /root/.cache/pip/wheels/6f/b5/7c/0a1a2940b130f4878a319c454efd1e1dd1b1032660196ad391\n",
            "  Building wheel for utm (setup.py) ... \u001b[?25l\u001b[?25hdone\n",
            "  Created wheel for utm: filename=utm-0.5.0-cp36-none-any.whl size=5903 sha256=a357a1c5a1b1d373958b4b484073cdac3cf559eab7d69b39eefcb2d37cb0571d\n",
            "  Stored in directory: /root/.cache/pip/wheels/22/85/c2/314ffed39b8e02ca623e9b7d2ad7fcf3f8544a0e77c096be76\n",
            "Successfully built sentinelhub utm\n",
            "Installing collected packages: tifffile, utm, sentinelhub\n",
            "Successfully installed sentinelhub-2.6.0 tifffile-2019.7.26 utm-0.5.0\n"
          ],
          "name": "stdout"
        }
      ]
    },
    {
      "cell_type": "code",
      "metadata": {
        "id": "BW8ZJrDXaTOJ",
        "colab_type": "code",
        "colab": {
          "base_uri": "https://localhost:8080/",
          "height": 71
        },
        "outputId": "ea67ae57-558d-419b-8ab2-b0a4a958f591"
      },
      "source": [
        "# Firstly, some necessary imports\n",
        "\n",
        "# Jupyter notebook related\n",
        "%reload_ext autoreload\n",
        "%autoreload 2\n",
        "%matplotlib inline\n",
        "\n",
        "# Built-in modules\n",
        "import pickle\n",
        "import sys\n",
        "import os\n",
        "import datetime\n",
        "import itertools\n",
        "from enum import Enum\n",
        "\n",
        "# Basics of Python data handling and visualization\n",
        "import numpy as np\n",
        "import geopandas as gpd\n",
        "import matplotlib as mpl\n",
        "import matplotlib.pyplot as plt\n",
        "import matplotlib.gridspec as gridspec\n",
        "from mpl_toolkits.axes_grid1 import make_axes_locatable\n",
        "from shapely.geometry import Polygon\n",
        "from tqdm import tqdm_notebook as tqdm\n",
        "\n",
        "# Machine learning \n",
        "import lightgbm as lgb\n",
        "from sklearn.externals import joblib\n",
        "from sklearn import metrics\n",
        "from sklearn import preprocessing\n",
        "\n",
        "# Imports from eo-learn and sentinelhub-py\n",
        "from eolearn.core import EOTask, EOPatch, LinearWorkflow, FeatureType, OverwritePermission, \\\n",
        "    LoadFromDisk, SaveToDisk, EOExecutor\n",
        "from eolearn.io import S2L1CWCSInput, ExportToTiff\n",
        "from eolearn.mask import AddCloudMaskTask, get_s2_pixel_cloud_detector, AddValidDataMaskTask\n",
        "from eolearn.geometry import VectorToRaster, PointSamplingTask, ErosionTask\n",
        "from eolearn.features import LinearInterpolation, SimpleFilterTask\n",
        "from sentinelhub import BBoxSplitter, BBox, CRS, CustomUrlParam"
      ],
      "execution_count": 3,
      "outputs": [
        {
          "output_type": "stream",
          "text": [
            "/usr/local/lib/python3.6/dist-packages/sklearn/externals/joblib/__init__.py:15: DeprecationWarning: sklearn.externals.joblib is deprecated in 0.21 and will be removed in 0.23. Please import this functionality directly from joblib, which can be installed with: pip install joblib. If this warning is raised when loading pickled models, you may need to re-serialize those models with scikit-learn 0.21+.\n",
            "  warnings.warn(msg, category=DeprecationWarning)\n"
          ],
          "name": "stderr"
        }
      ]
    },
    {
      "cell_type": "markdown",
      "metadata": {
        "id": "5vMPXECPbmPd",
        "colab_type": "text"
      },
      "source": [
        "# Part 1\n",
        "1. Define the Area-of-Interest (AOI):\n",
        "A geographical shape of Slovenia was taken from Natural Earth database and a buffer was applied. The shape is available in repository: example_data/svn_buffered.geojson\n",
        "Convert it to selected CRS: taken to be the CRS of central UTM tile (UTM_33N)\n",
        "Split it into smaller, manageable, non-overlapping rectangular tiles\n",
        "Select a small 3x3 area for classification\n",
        "Be sure that your choice of CRS is the same as the CRS of your reference data.\n",
        "\n",
        "In the case that you are having problems with empty data being downloaded, try changing the CRS to something that suits the location of the AOI better."
      ]
    },
    {
      "cell_type": "markdown",
      "metadata": {
        "id": "qvGmlanObs8f",
        "colab_type": "text"
      },
      "source": [
        "### Get country boundary"
      ]
    },
    {
      "cell_type": "code",
      "metadata": {
        "id": "CMqXy6lOkAGR",
        "colab_type": "code",
        "colab": {}
      },
      "source": [
        "#http://opendatalab.de/projects/geojson-utilities/"
      ],
      "execution_count": 0,
      "outputs": []
    },
    {
      "cell_type": "code",
      "metadata": {
        "id": "P2xS1Ft4lMWI",
        "colab_type": "code",
        "colab": {}
      },
      "source": [
        "from shapely.geometry import Polygon"
      ],
      "execution_count": 0,
      "outputs": []
    },
    {
      "cell_type": "code",
      "metadata": {
        "id": "Rtg5vRfBlMy8",
        "colab_type": "code",
        "colab": {
          "base_uri": "https://localhost:8080/",
          "height": 51
        },
        "outputId": "fbb1ad26-57f6-4e97-e1a8-70e630dec70b"
      },
      "source": [
        "lat_point_list = [50.854457, 52.518172, 50.072651, 48.853033, 50.854457]\n",
        "lon_point_list = [4.377184, 13.407759, 14.435935, 2.349553, 4.377184]\n",
        "\n",
        "polygon_geom = Polygon(zip(lon_point_list, lat_point_list))\n",
        "crs = {'init': 'epsg:4326'}\n",
        "polygon = gpd.GeoDataFrame(index=[0], crs=crs, geometry=[polygon_geom])       \n",
        "print(polygon.geometry)"
      ],
      "execution_count": 7,
      "outputs": [
        {
          "output_type": "stream",
          "text": [
            "0    POLYGON ((4.37718 50.85446, 13.40776 52.51817,...\n",
            "Name: geometry, dtype: geometry\n"
          ],
          "name": "stdout"
        }
      ]
    },
    {
      "cell_type": "code",
      "metadata": {
        "id": "Ub3fX_vAbuW-",
        "colab_type": "code",
        "colab": {
          "base_uri": "https://localhost:8080/",
          "height": 231
        },
        "outputId": "e5eb6735-266f-4478-8ee0-190a643aa05b"
      },
      "source": [
        "# Folder where data for running the notebook is stored\n",
        "#DATA_FOLDER = os.path.join('..', '..', 'example_data')\n",
        "\n",
        "# Load geojson file\n",
        "#country = gpd.read_file(os.path.join(DATA_FOLDER, 'svn_buffered.geojson'))\n",
        "\n",
        "country = polygon\n",
        "# Convert CRS to UTM_33N\n",
        "country_crs = CRS.UTM_33N\n",
        "country = country.to_crs(crs={'init': CRS.ogc_string(country_crs)})\n",
        "\n",
        "# Get the country's shape in polygon format\n",
        "country_shape = country.geometry.values.tolist()[-1]\n",
        "\n",
        "# Plot country\n",
        "country.plot()\n",
        "plt.axis('off');\n",
        "\n",
        "# Print size \n",
        "print('Dimension of the area is {0:.0f} x {1:.0f} m2'.format(country_shape.bounds[2] - country_shape.bounds[0],\n",
        "                                                             country_shape.bounds[3] - country_shape.bounds[1]))"
      ],
      "execution_count": 8,
      "outputs": [
        {
          "output_type": "error",
          "ename": "AttributeError",
          "evalue": "ignored",
          "traceback": [
            "\u001b[0;31m---------------------------------------------------------------------------\u001b[0m",
            "\u001b[0;31mAttributeError\u001b[0m                            Traceback (most recent call last)",
            "\u001b[0;32m<ipython-input-8-d463ff5e99a5>\u001b[0m in \u001b[0;36m<module>\u001b[0;34m()\u001b[0m\n\u001b[1;32m      6\u001b[0m \u001b[0;34m\u001b[0m\u001b[0m\n\u001b[1;32m      7\u001b[0m \u001b[0;31m# Get the country's shape in polygon format\u001b[0m\u001b[0;34m\u001b[0m\u001b[0;34m\u001b[0m\u001b[0;34m\u001b[0m\u001b[0m\n\u001b[0;32m----> 8\u001b[0;31m \u001b[0mcountry_shape\u001b[0m \u001b[0;34m=\u001b[0m \u001b[0mcountry\u001b[0m\u001b[0;34m.\u001b[0m\u001b[0mgeometry\u001b[0m\u001b[0;34m.\u001b[0m\u001b[0mvalues\u001b[0m\u001b[0;34m.\u001b[0m\u001b[0mtolist\u001b[0m\u001b[0;34m(\u001b[0m\u001b[0;34m)\u001b[0m\u001b[0;34m[\u001b[0m\u001b[0;34m-\u001b[0m\u001b[0;36m1\u001b[0m\u001b[0;34m]\u001b[0m\u001b[0;34m\u001b[0m\u001b[0;34m\u001b[0m\u001b[0m\n\u001b[0m\u001b[1;32m      9\u001b[0m \u001b[0;34m\u001b[0m\u001b[0m\n\u001b[1;32m     10\u001b[0m \u001b[0;31m# Plot country\u001b[0m\u001b[0;34m\u001b[0m\u001b[0;34m\u001b[0m\u001b[0;34m\u001b[0m\u001b[0m\n",
            "\u001b[0;31mAttributeError\u001b[0m: 'GeometryArray' object has no attribute 'tolist'"
          ]
        }
      ]
    },
    {
      "cell_type": "code",
      "metadata": {
        "id": "LPZ3jYOclevD",
        "colab_type": "code",
        "colab": {}
      },
      "source": [
        ""
      ],
      "execution_count": 0,
      "outputs": []
    }
  ]
}